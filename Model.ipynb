{
 "cells": [
  {
   "cell_type": "markdown",
   "metadata": {},
   "source": [
    "# Imports"
   ]
  },
  {
   "cell_type": "code",
   "execution_count": 1,
   "metadata": {},
   "outputs": [],
   "source": [
    "import torch\n",
    "from torch import nn\n",
    "from torch.utils.data import DataLoader\n",
    "from torchvision import datasets\n",
    "from torchvision.transforms import ToTensor\n",
    "import matplotlib.pyplot as plt\n",
    "import numpy as np"
   ]
  },
  {
   "cell_type": "markdown",
   "metadata": {},
   "source": [
    "# Dataset"
   ]
  },
  {
   "cell_type": "code",
   "execution_count": 2,
   "metadata": {},
   "outputs": [],
   "source": [
    "# Download training data from open datasets.\n",
    "training_data = datasets.MNIST(\n",
    "    root=\"data\",\n",
    "    train=True,\n",
    "    download=True,\n",
    "    transform=ToTensor(),\n",
    ")\n",
    "\n",
    "# Download test data from open datasets.\n",
    "test_data = datasets.MNIST(\n",
    "    root=\"data\",\n",
    "    train=False,\n",
    "    download=True,\n",
    "    transform=ToTensor(),\n",
    ")"
   ]
  },
  {
   "cell_type": "code",
   "execution_count": 3,
   "metadata": {},
   "outputs": [
    {
     "data": {
      "image/png": "[encoded data removed]",
      "text/plain": [
       "<Figure size 800x800 with 9 Axes>"
      ]
     },
     "metadata": {},
     "output_type": "display_data"
    }
   ],
   "source": [
    "figure = plt.figure(figsize=(8, 8))\n",
    "cols, rows = 3, 3\n",
    "for i in range(1, cols * rows + 1):\n",
    "    sample_idx = torch.randint(len(training_data), size=(1,)).item()\n",
    "    img, label = training_data[sample_idx]\n",
    "    figure.add_subplot(rows, cols, i)\n",
    "    plt.title(label)\n",
    "    plt.axis(\"off\")\n",
    "    plt.imshow(img.squeeze(), cmap=\"gray\")\n",
    "plt.show()"
   ]
  },
  {
   "cell_type": "code",
   "execution_count": 4,
   "metadata": {},
   "outputs": [
    {
     "name": "stdout",
     "output_type": "stream",
     "text": [
      "Shape of X [N, C, H, W]: torch.Size([64, 1, 28, 28])\n",
      "Shape of y: torch.Size([64]) torch.int64\n"
     ]
    }
   ],
   "source": [
    "batch_size = 64\n",
    "\n",
    "# Create data loaders.\n",
    "train_dataloader = DataLoader(training_data, batch_size=batch_size)\n",
    "test_dataloader = DataLoader(test_data, batch_size=batch_size)\n",
    "\n",
    "for X, y in test_dataloader:\n",
    "    print(f\"Shape of X [N, C, H, W]: {X.shape}\")\n",
    "    print(f\"Shape of y: {y.shape} {y.dtype}\")\n",
    "    break"
   ]
  },
  {
   "cell_type": "markdown",
   "metadata": {},
   "source": [
    "# Miscellaneous"
   ]
  },
  {
   "cell_type": "code",
   "execution_count": 5,
   "metadata": {},
   "outputs": [
    {
     "name": "stdout",
     "output_type": "stream",
     "text": [
      "Using cuda device\n"
     ]
    }
   ],
   "source": [
    "# Get cpu or gpu device for training.\n",
    "device = \"cuda\" if torch.cuda.is_available() else \"cpu\"\n",
    "# device = 'cpu'\n",
    "print(f\"Using {device} device\")"
   ]
  },
  {
   "cell_type": "markdown",
   "metadata": {},
   "source": [
    "# Classifier"
   ]
  },
  {
   "cell_type": "code",
   "execution_count": 6,
   "metadata": {},
   "outputs": [
    {
     "name": "stdout",
     "output_type": "stream",
     "text": [
      "Classifier(\n",
      "  (flatten): Flatten(start_dim=1, end_dim=-1)\n",
      "  (linear_relu_stack): Sequential(\n",
      "    (0): Linear(in_features=784, out_features=512, bias=True)\n",
      "    (1): ReLU()\n",
      "    (2): Linear(in_features=512, out_features=512, bias=True)\n",
      "    (3): ReLU()\n",
      "    (4): Linear(in_features=512, out_features=10, bias=True)\n",
      "  )\n",
      "  (loss_function): CrossEntropyLoss()\n",
      ")\n"
     ]
    }
   ],
   "source": [
    "# Define model\n",
    "class Classifier(nn.Module):\n",
    "    def __init__(self):\n",
    "        super().__init__()\n",
    "        self.flatten = nn.Flatten()\n",
    "        self.linear_relu_stack = nn.Sequential(\n",
    "            nn.Linear(28*28, 512),\n",
    "            nn.ReLU(),\n",
    "            nn.Linear(512, 512),\n",
    "            nn.ReLU(),\n",
    "            nn.Linear(512, 10)\n",
    "        )\n",
    "        # loss and optimizer\n",
    "        self.loss_function = nn.CrossEntropyLoss()\n",
    "        self.optimizer = torch.optim.Adam(self.parameters()) # TODO il se passe quoi si je mets cette ligne avant le sequential ?\n",
    "\n",
    "    def forward(self, x):\n",
    "        x = self.flatten(x)\n",
    "        logits = self.linear_relu_stack(x)\n",
    "        return logits\n",
    "\n",
    "classifier = Classifier().to(device)\n",
    "print(classifier)"
   ]
  },
  {
   "cell_type": "markdown",
   "metadata": {},
   "source": [
    "# Autoencoder"
   ]
  },
  {
   "cell_type": "code",
   "execution_count": 7,
   "metadata": {},
   "outputs": [],
   "source": [
    "class Autoencoder(nn.Module):\n",
    "    def __init__(self, input_dim, bottleneck_dim: int = 2) -> None:\n",
    "        super().__init__()\n",
    "        self.flatten = nn.Flatten()\n",
    "        self.encoder = nn.Sequential(\n",
    "            nn.Transformer(d_model=28*28)\n",
    "        )"
   ]
  },
  {
   "cell_type": "markdown",
   "metadata": {},
   "source": [
    "# Transformer Identity"
   ]
  },
  {
   "cell_type": "code",
   "execution_count": 15,
   "metadata": {},
   "outputs": [
    {
     "name": "stdout",
     "output_type": "stream",
     "text": [
      "IdentityTransformer(\n",
      "  (flatten): Flatten(start_dim=1, end_dim=-1)\n",
      "  (transformer): Transformer(\n",
      "    (encoder): TransformerEncoder(\n",
      "      (layers): ModuleList(\n",
      "        (0): TransformerEncoderLayer(\n",
      "          (self_attn): MultiheadAttention(\n",
      "            (out_proj): NonDynamicallyQuantizableLinear(in_features=28, out_features=28, bias=True)\n",
      "          )\n",
      "          (linear1): Linear(in_features=28, out_features=2048, bias=True)\n",
      "          (dropout): Dropout(p=0.1, inplace=False)\n",
      "          (linear2): Linear(in_features=2048, out_features=28, bias=True)\n",
      "          (norm1): LayerNorm((28,), eps=1e-05, elementwise_affine=True)\n",
      "          (norm2): LayerNorm((28,), eps=1e-05, elementwise_affine=True)\n",
      "          (dropout1): Dropout(p=0.1, inplace=False)\n",
      "          (dropout2): Dropout(p=0.1, inplace=False)\n",
      "        )\n",
      "        (1): TransformerEncoderLayer(\n",
      "          (self_attn): MultiheadAttention(\n",
      "            (out_proj): NonDynamicallyQuantizableLinear(in_features=28, out_features=28, bias=True)\n",
      "          )\n",
      "          (linear1): Linear(in_features=28, out_features=2048, bias=True)\n",
      "          (dropout): Dropout(p=0.1, inplace=False)\n",
      "          (linear2): Linear(in_features=2048, out_features=28, bias=True)\n",
      "          (norm1): LayerNorm((28,), eps=1e-05, elementwise_affine=True)\n",
      "          (norm2): LayerNorm((28,), eps=1e-05, elementwise_affine=True)\n",
      "          (dropout1): Dropout(p=0.1, inplace=False)\n",
      "          (dropout2): Dropout(p=0.1, inplace=False)\n",
      "        )\n",
      "        (2): TransformerEncoderLayer(\n",
      "          (self_attn): MultiheadAttention(\n",
      "            (out_proj): NonDynamicallyQuantizableLinear(in_features=28, out_features=28, bias=True)\n",
      "          )\n",
      "          (linear1): Linear(in_features=28, out_features=2048, bias=True)\n",
      "          (dropout): Dropout(p=0.1, inplace=False)\n",
      "          (linear2): Linear(in_features=2048, out_features=28, bias=True)\n",
      "          (norm1): LayerNorm((28,), eps=1e-05, elementwise_affine=True)\n",
      "          (norm2): LayerNorm((28,), eps=1e-05, elementwise_affine=True)\n",
      "          (dropout1): Dropout(p=0.1, inplace=False)\n",
      "          (dropout2): Dropout(p=0.1, inplace=False)\n",
      "        )\n",
      "        (3): TransformerEncoderLayer(\n",
      "          (self_attn): MultiheadAttention(\n",
      "            (out_proj): NonDynamicallyQuantizableLinear(in_features=28, out_features=28, bias=True)\n",
      "          )\n",
      "          (linear1): Linear(in_features=28, out_features=2048, bias=True)\n",
      "          (dropout): Dropout(p=0.1, inplace=False)\n",
      "          (linear2): Linear(in_features=2048, out_features=28, bias=True)\n",
      "          (norm1): LayerNorm((28,), eps=1e-05, elementwise_affine=True)\n",
      "          (norm2): LayerNorm((28,), eps=1e-05, elementwise_affine=True)\n",
      "          (dropout1): Dropout(p=0.1, inplace=False)\n",
      "          (dropout2): Dropout(p=0.1, inplace=False)\n",
      "        )\n",
      "        (4): TransformerEncoderLayer(\n",
      "          (self_attn): MultiheadAttention(\n",
      "            (out_proj): NonDynamicallyQuantizableLinear(in_features=28, out_features=28, bias=True)\n",
      "          )\n",
      "          (linear1): Linear(in_features=28, out_features=2048, bias=True)\n",
      "          (dropout): Dropout(p=0.1, inplace=False)\n",
      "          (linear2): Linear(in_features=2048, out_features=28, bias=True)\n",
      "          (norm1): LayerNorm((28,), eps=1e-05, elementwise_affine=True)\n",
      "          (norm2): LayerNorm((28,), eps=1e-05, elementwise_affine=True)\n",
      "          (dropout1): Dropout(p=0.1, inplace=False)\n",
      "          (dropout2): Dropout(p=0.1, inplace=False)\n",
      "        )\n",
      "        (5): TransformerEncoderLayer(\n",
      "          (self_attn): MultiheadAttention(\n",
      "            (out_proj): NonDynamicallyQuantizableLinear(in_features=28, out_features=28, bias=True)\n",
      "          )\n",
      "          (linear1): Linear(in_features=28, out_features=2048, bias=True)\n",
      "          (dropout): Dropout(p=0.1, inplace=False)\n",
      "          (linear2): Linear(in_features=2048, out_features=28, bias=True)\n",
      "          (norm1): LayerNorm((28,), eps=1e-05, elementwise_affine=True)\n",
      "          (norm2): LayerNorm((28,), eps=1e-05, elementwise_affine=True)\n",
      "          (dropout1): Dropout(p=0.1, inplace=False)\n",
      "          (dropout2): Dropout(p=0.1, inplace=False)\n",
      "        )\n",
      "      )\n",
      "      (norm): LayerNorm((28,), eps=1e-05, elementwise_affine=True)\n",
      "    )\n",
      "    (decoder): TransformerDecoder(\n",
      "      (layers): ModuleList(\n",
      "        (0): TransformerDecoderLayer(\n",
      "          (self_attn): MultiheadAttention(\n",
      "            (out_proj): NonDynamicallyQuantizableLinear(in_features=28, out_features=28, bias=True)\n",
      "          )\n",
      "          (multihead_attn): MultiheadAttention(\n",
      "            (out_proj): NonDynamicallyQuantizableLinear(in_features=28, out_features=28, bias=True)\n",
      "          )\n",
      "          (linear1): Linear(in_features=28, out_features=2048, bias=True)\n",
      "          (dropout): Dropout(p=0.1, inplace=False)\n",
      "          (linear2): Linear(in_features=2048, out_features=28, bias=True)\n",
      "          (norm1): LayerNorm((28,), eps=1e-05, elementwise_affine=True)\n",
      "          (norm2): LayerNorm((28,), eps=1e-05, elementwise_affine=True)\n",
      "          (norm3): LayerNorm((28,), eps=1e-05, elementwise_affine=True)\n",
      "          (dropout1): Dropout(p=0.1, inplace=False)\n",
      "          (dropout2): Dropout(p=0.1, inplace=False)\n",
      "          (dropout3): Dropout(p=0.1, inplace=False)\n",
      "        )\n",
      "        (1): TransformerDecoderLayer(\n",
      "          (self_attn): MultiheadAttention(\n",
      "            (out_proj): NonDynamicallyQuantizableLinear(in_features=28, out_features=28, bias=True)\n",
      "          )\n",
      "          (multihead_attn): MultiheadAttention(\n",
      "            (out_proj): NonDynamicallyQuantizableLinear(in_features=28, out_features=28, bias=True)\n",
      "          )\n",
      "          (linear1): Linear(in_features=28, out_features=2048, bias=True)\n",
      "          (dropout): Dropout(p=0.1, inplace=False)\n",
      "          (linear2): Linear(in_features=2048, out_features=28, bias=True)\n",
      "          (norm1): LayerNorm((28,), eps=1e-05, elementwise_affine=True)\n",
      "          (norm2): LayerNorm((28,), eps=1e-05, elementwise_affine=True)\n",
      "          (norm3): LayerNorm((28,), eps=1e-05, elementwise_affine=True)\n",
      "          (dropout1): Dropout(p=0.1, inplace=False)\n",
      "          (dropout2): Dropout(p=0.1, inplace=False)\n",
      "          (dropout3): Dropout(p=0.1, inplace=False)\n",
      "        )\n",
      "        (2): TransformerDecoderLayer(\n",
      "          (self_attn): MultiheadAttention(\n",
      "            (out_proj): NonDynamicallyQuantizableLinear(in_features=28, out_features=28, bias=True)\n",
      "          )\n",
      "          (multihead_attn): MultiheadAttention(\n",
      "            (out_proj): NonDynamicallyQuantizableLinear(in_features=28, out_features=28, bias=True)\n",
      "          )\n",
      "          (linear1): Linear(in_features=28, out_features=2048, bias=True)\n",
      "          (dropout): Dropout(p=0.1, inplace=False)\n",
      "          (linear2): Linear(in_features=2048, out_features=28, bias=True)\n",
      "          (norm1): LayerNorm((28,), eps=1e-05, elementwise_affine=True)\n",
      "          (norm2): LayerNorm((28,), eps=1e-05, elementwise_affine=True)\n",
      "          (norm3): LayerNorm((28,), eps=1e-05, elementwise_affine=True)\n",
      "          (dropout1): Dropout(p=0.1, inplace=False)\n",
      "          (dropout2): Dropout(p=0.1, inplace=False)\n",
      "          (dropout3): Dropout(p=0.1, inplace=False)\n",
      "        )\n",
      "        (3): TransformerDecoderLayer(\n",
      "          (self_attn): MultiheadAttention(\n",
      "            (out_proj): NonDynamicallyQuantizableLinear(in_features=28, out_features=28, bias=True)\n",
      "          )\n",
      "          (multihead_attn): MultiheadAttention(\n",
      "            (out_proj): NonDynamicallyQuantizableLinear(in_features=28, out_features=28, bias=True)\n",
      "          )\n",
      "          (linear1): Linear(in_features=28, out_features=2048, bias=True)\n",
      "          (dropout): Dropout(p=0.1, inplace=False)\n",
      "          (linear2): Linear(in_features=2048, out_features=28, bias=True)\n",
      "          (norm1): LayerNorm((28,), eps=1e-05, elementwise_affine=True)\n",
      "          (norm2): LayerNorm((28,), eps=1e-05, elementwise_affine=True)\n",
      "          (norm3): LayerNorm((28,), eps=1e-05, elementwise_affine=True)\n",
      "          (dropout1): Dropout(p=0.1, inplace=False)\n",
      "          (dropout2): Dropout(p=0.1, inplace=False)\n",
      "          (dropout3): Dropout(p=0.1, inplace=False)\n",
      "        )\n",
      "        (4): TransformerDecoderLayer(\n",
      "          (self_attn): MultiheadAttention(\n",
      "            (out_proj): NonDynamicallyQuantizableLinear(in_features=28, out_features=28, bias=True)\n",
      "          )\n",
      "          (multihead_attn): MultiheadAttention(\n",
      "            (out_proj): NonDynamicallyQuantizableLinear(in_features=28, out_features=28, bias=True)\n",
      "          )\n",
      "          (linear1): Linear(in_features=28, out_features=2048, bias=True)\n",
      "          (dropout): Dropout(p=0.1, inplace=False)\n",
      "          (linear2): Linear(in_features=2048, out_features=28, bias=True)\n",
      "          (norm1): LayerNorm((28,), eps=1e-05, elementwise_affine=True)\n",
      "          (norm2): LayerNorm((28,), eps=1e-05, elementwise_affine=True)\n",
      "          (norm3): LayerNorm((28,), eps=1e-05, elementwise_affine=True)\n",
      "          (dropout1): Dropout(p=0.1, inplace=False)\n",
      "          (dropout2): Dropout(p=0.1, inplace=False)\n",
      "          (dropout3): Dropout(p=0.1, inplace=False)\n",
      "        )\n",
      "        (5): TransformerDecoderLayer(\n",
      "          (self_attn): MultiheadAttention(\n",
      "            (out_proj): NonDynamicallyQuantizableLinear(in_features=28, out_features=28, bias=True)\n",
      "          )\n",
      "          (multihead_attn): MultiheadAttention(\n",
      "            (out_proj): NonDynamicallyQuantizableLinear(in_features=28, out_features=28, bias=True)\n",
      "          )\n",
      "          (linear1): Linear(in_features=28, out_features=2048, bias=True)\n",
      "          (dropout): Dropout(p=0.1, inplace=False)\n",
      "          (linear2): Linear(in_features=2048, out_features=28, bias=True)\n",
      "          (norm1): LayerNorm((28,), eps=1e-05, elementwise_affine=True)\n",
      "          (norm2): LayerNorm((28,), eps=1e-05, elementwise_affine=True)\n",
      "          (norm3): LayerNorm((28,), eps=1e-05, elementwise_affine=True)\n",
      "          (dropout1): Dropout(p=0.1, inplace=False)\n",
      "          (dropout2): Dropout(p=0.1, inplace=False)\n",
      "          (dropout3): Dropout(p=0.1, inplace=False)\n",
      "        )\n",
      "      )\n",
      "      (norm): LayerNorm((28,), eps=1e-05, elementwise_affine=True)\n",
      "    )\n",
      "  )\n",
      "  (loss_function): MSELoss()\n",
      ")\n"
     ]
    }
   ],
   "source": [
    "class IdentityTransformer(nn.Module):\n",
    "    def __init__(self) -> None:\n",
    "        super().__init__()\n",
    "        # https://stackoverflow.com/questions/60908827/why-pytorch-nn-module-cuda-not-moving-module-tensor-but-only-parameters-and-bu\n",
    "        self.positional_encoding = nn.Parameter(torch.rand((28), requires_grad=True))\n",
    "        self.flatten = nn.Flatten()\n",
    "        self.transformer = nn.Transformer(d_model=28, nhead=1, batch_first=True) # TODO voir si les heads prennent tout le token ou seulement une sous-division\n",
    "        # loss function and optimizer\n",
    "        self.loss_function = nn.MSELoss()\n",
    "        self.optimizer = torch.optim.Adam(self.parameters())\n",
    "\n",
    "    def forward(self, input):\n",
    "        \"\"\"Takes a batch of 28*28 pictures (N,28,28) # TODO verifier que c'est pas (N,1,28,28) que donne le dataloader\n",
    "        We want to have (N,S,E)=(N,28,28), i.e. each row is a 'token' and the whole picture is a sentence.\"\"\"\n",
    "        input = torch.add(input, self.positional_encoding) # picture += positional encoding\n",
    "        # input = self.flatten(input) # (N,28,28) -> (N,784)\n",
    "        # input = torch.unsqueeze(input, 2) # (N,784) -> (N,784,1)\n",
    "        input = torch.squeeze(input) # TODO lié au TODO d'en haut (N,1,28,28)->(N,28,28)\n",
    "        output = self.transformer(input, input)\n",
    "        # output = torch.reshape(output, input.shape) # (N,1,784) -> (N,28,28)\n",
    "        return output\n",
    "\n",
    "identity_transformer = IdentityTransformer().to(device)\n",
    "print(identity_transformer)"
   ]
  },
  {
   "cell_type": "markdown",
   "metadata": {},
   "source": [
    "# Train"
   ]
  },
  {
   "cell_type": "code",
   "execution_count": 9,
   "metadata": {},
   "outputs": [],
   "source": [
    "def train_autoencoder(dataloader, model, loss_function, optimizer):\n",
    "    \"\"\"Right now, when iterated over, the dataloader returns a data point AND a label. \n",
    "    TODO faire en sorte que le dataloader soit composé que des images, sans les labels.\"\"\"\n",
    "\n",
    "    size = len(dataloader.dataset)\n",
    "    model.train()\n",
    "    for batch, (X, _) in enumerate(dataloader):\n",
    "        X = X.to(device)\n",
    "\n",
    "        # Compute prediction error\n",
    "        pred = model(X)\n",
    "        loss = loss_function(pred, X)\n",
    "\n",
    "        # Backpropagation\n",
    "        optimizer.zero_grad()\n",
    "        loss.backward()\n",
    "        optimizer.step()\n",
    "\n",
    "        if batch % 100 == 0:\n",
    "            loss, current = loss.item(), batch * len(X)\n",
    "            print(f\"loss: {loss:>7f}  [{current:>5d}/{size:>5d}]\")\n",
    "\n",
    "def test_autoencoder(dataloader, model, loss_function):\n",
    "    size = len(dataloader.dataset)\n",
    "    num_batches = len(dataloader)\n",
    "    model.eval()\n",
    "    test_loss, correct = 0, 0\n",
    "    with torch.no_grad():\n",
    "        for X, _ in dataloader:\n",
    "            X = X.to(device)\n",
    "            pred = model(X)\n",
    "            test_loss += loss_function(pred, X).item()\n",
    "    test_loss /= num_batches\n",
    "    print(f\"Test Error: Avg loss: {test_loss:>8f} \\n\")"
   ]
  },
  {
   "cell_type": "markdown",
   "metadata": {},
   "source": [
    "# ---"
   ]
  },
  {
   "cell_type": "code",
   "execution_count": 16,
   "metadata": {},
   "outputs": [
    {
     "name": "stdout",
     "output_type": "stream",
     "text": [
      "Epoch 1\n",
      "-------------------------------\n"
     ]
    },
    {
     "name": "stderr",
     "output_type": "stream",
     "text": [
      "/home/antoine/anaconda3/envs/Emergence/lib/python3.10/site-packages/torch/nn/modules/loss.py:536: UserWarning: Using a target size (torch.Size([64, 1, 28, 28])) that is different to the input size (torch.Size([64, 28, 28])). This will likely lead to incorrect results due to broadcasting. Please ensure they have the same size.\n",
      "  return F.mse_loss(input, target, reduction=self.reduction)\n"
     ]
    },
    {
     "name": "stdout",
     "output_type": "stream",
     "text": [
      "loss: 1.119141  [    0/60000]\n",
      "loss: 0.593964  [ 6400/60000]\n",
      "loss: 0.375170  [12800/60000]\n",
      "loss: 0.214925  [19200/60000]\n",
      "loss: 0.121304  [25600/60000]\n",
      "loss: 0.093051  [32000/60000]\n",
      "loss: 0.077512  [38400/60000]\n",
      "loss: 0.071674  [44800/60000]\n",
      "loss: 0.087555  [51200/60000]\n",
      "loss: 0.074559  [57600/60000]\n"
     ]
    },
    {
     "name": "stderr",
     "output_type": "stream",
     "text": [
      "/home/antoine/anaconda3/envs/Emergence/lib/python3.10/site-packages/torch/nn/modules/loss.py:536: UserWarning: Using a target size (torch.Size([32, 1, 28, 28])) that is different to the input size (torch.Size([32, 28, 28])). This will likely lead to incorrect results due to broadcasting. Please ensure they have the same size.\n",
      "  return F.mse_loss(input, target, reduction=self.reduction)\n",
      "/home/antoine/anaconda3/envs/Emergence/lib/python3.10/site-packages/torch/nn/modules/loss.py:536: UserWarning: Using a target size (torch.Size([16, 1, 28, 28])) that is different to the input size (torch.Size([16, 28, 28])). This will likely lead to incorrect results due to broadcasting. Please ensure they have the same size.\n",
      "  return F.mse_loss(input, target, reduction=self.reduction)\n"
     ]
    },
    {
     "name": "stdout",
     "output_type": "stream",
     "text": [
      "Test Error: Avg loss: 0.078617 \n",
      "\n",
      "Epoch 2\n",
      "-------------------------------\n",
      "loss: 0.075588  [    0/60000]\n",
      "loss: 0.081284  [ 6400/60000]\n",
      "loss: 0.068607  [12800/60000]\n",
      "loss: 0.090155  [19200/60000]\n",
      "loss: 0.077548  [25600/60000]\n",
      "loss: 0.079230  [32000/60000]\n",
      "loss: 0.073483  [38400/60000]\n",
      "loss: 0.070536  [44800/60000]\n",
      "loss: 0.086447  [51200/60000]\n",
      "loss: 0.074007  [57600/60000]\n",
      "Test Error: Avg loss: 0.078442 \n",
      "\n",
      "Epoch 3\n",
      "-------------------------------\n",
      "loss: 0.075348  [    0/60000]\n",
      "loss: 0.080184  [ 6400/60000]\n",
      "loss: 0.068259  [12800/60000]\n",
      "loss: 0.089577  [19200/60000]\n",
      "loss: 0.076727  [25600/60000]\n",
      "loss: 0.078574  [32000/60000]\n",
      "loss: 0.072815  [38400/60000]\n",
      "loss: 0.069883  [44800/60000]\n",
      "loss: 0.085557  [51200/60000]\n",
      "loss: 0.073363  [57600/60000]\n",
      "Test Error: Avg loss: 0.077342 \n",
      "\n",
      "Epoch 4\n",
      "-------------------------------\n",
      "loss: 0.074504  [    0/60000]\n",
      "loss: 0.079330  [ 6400/60000]\n",
      "loss: 0.067493  [12800/60000]\n",
      "loss: 0.088429  [19200/60000]\n",
      "loss: 0.075599  [25600/60000]\n",
      "loss: 0.077463  [32000/60000]\n",
      "loss: 0.072006  [38400/60000]\n",
      "loss: 0.069082  [44800/60000]\n",
      "loss: 0.084114  [51200/60000]\n",
      "loss: 0.072392  [57600/60000]\n",
      "Test Error: Avg loss: 0.076146 \n",
      "\n",
      "Epoch 5\n",
      "-------------------------------\n",
      "loss: 0.073279  [    0/60000]\n",
      "loss: 0.077801  [ 6400/60000]\n",
      "loss: 0.066398  [12800/60000]\n",
      "loss: 0.081477  [19200/60000]\n",
      "loss: 0.070680  [25600/60000]\n",
      "loss: 0.071973  [32000/60000]\n",
      "loss: 0.068062  [38400/60000]\n",
      "loss: 0.065569  [44800/60000]\n",
      "loss: 0.077846  [51200/60000]\n",
      "loss: 0.068550  [57600/60000]\n",
      "Test Error: Avg loss: 0.071424 \n",
      "\n",
      "Done!\n"
     ]
    }
   ],
   "source": [
    "epochs = 5\n",
    "for t in range(epochs):\n",
    "    print(f\"Epoch {t+1}\\n-------------------------------\")\n",
    "    train_autoencoder(train_dataloader, identity_transformer, identity_transformer.loss_function, identity_transformer.optimizer)\n",
    "    test_autoencoder(test_dataloader, identity_transformer, identity_transformer.loss_function)\n",
    "print(\"Done!\")"
   ]
  },
  {
   "cell_type": "code",
   "execution_count": 17,
   "metadata": {},
   "outputs": [
    {
     "data": {
      "image/png": "[encoded data removed]",
      "text/plain": [
       "<Figure size 800x800 with 20 Axes>"
      ]
     },
     "metadata": {},
     "output_type": "display_data"
    }
   ],
   "source": [
    "figure = plt.figure(figsize=(8, 8))\n",
    "n = 10\n",
    "for i in range(n):\n",
    "    # Input\n",
    "    random_index = np.random.randint(len(test_data))\n",
    "    img, label = test_data[random_index]\n",
    "    figure.add_subplot(n, 2, 2 * i + 1)\n",
    "    plt.imshow(img.squeeze(), cmap='gray')\n",
    "    plt.title('Input')\n",
    "\n",
    "    # Output\n",
    "    output_image = identity_transformer(img.to(device))\n",
    "    figure.add_subplot(n, 2, 2 * i + 2)\n",
    "    plt.imshow(output_image.cpu().detach().numpy().squeeze(), cmap=\"gray\")\n",
    "    plt.title('Output')\n",
    "plt.show()"
   ]
  },
  {
   "cell_type": "markdown",
   "metadata": {},
   "source": [
    "TODO : faire un cahier de bord\n",
    "Dire que j'ai voulu faire l'autoencodeur, et je me suis dit \"et pourquoi pas faire avec des transformers ?\"\n",
    "Comme je maîtrisais pas bien nn.Transformer, j'ai voulu d'abord faire juste un réseau transformer qui en lui donnant une image ressors la même image (la fonction identité donc). Mais comme les transformers ça prend des phrases et des mots, faut réfléchir ce qui est quoi.\n",
    "On peut essayer (avec les default values pour le transformer, l'optimizer, etc):\n",
    "- 1 image = 1 phrase/sequence\n",
    "    - 1 ligne = 1 mot/token, chaque mot (ligne) est de dimension 28 et il y a 28 mots dans la phrase (image)\n",
    "    - 1 pixel = 1 mot, chaque mot (pixel) est de dimension 1 et il y a 28*28 mots dans la phrase (image)"
   ]
  }
 ],
 "metadata": {
  "kernelspec": {
   "display_name": "Python 3.10.6 ('Emergence')",
   "language": "python",
   "name": "python3"
  },
  "language_info": {
   "codemirror_mode": {
    "name": "ipython",
    "version": 3
   },
   "file_extension": ".py",
   "mimetype": "text/x-python",
   "name": "python",
   "nbconvert_exporter": "python",
   "pygments_lexer": "ipython3",
   "version": "3.10.6"
  },
  "orig_nbformat": 4,
  "vscode": {
   "interpreter": {
    "hash": "8b1d9945a33258b0ffd7aeaf6809be58234033e79986f5ef0464e80e152d3eb4"
   }
  }
 },
 "nbformat": 4,
 "nbformat_minor": 2
}
