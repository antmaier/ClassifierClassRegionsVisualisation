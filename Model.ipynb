{
 "cells": [
  {
   "cell_type": "markdown",
   "metadata": {},
   "source": [
    "# Imports"
   ]
  },
  {
   "cell_type": "code",
   "execution_count": 1,
   "metadata": {},
   "outputs": [],
   "source": [
    "import torch\n",
    "from torch import nn\n",
    "from torch.utils.data import DataLoader\n",
    "from torchvision import datasets\n",
    "from torchvision import transforms\n",
    "from torchvision.transforms import ToTensor\n",
    "import matplotlib.pyplot as plt\n",
    "import numpy as np\n",
    "\n",
    "from Modules import Autoencoder"
   ]
  },
  {
   "cell_type": "markdown",
   "metadata": {},
   "source": [
    "# Dataset"
   ]
  },
  {
   "cell_type": "code",
   "execution_count": 2,
   "metadata": {},
   "outputs": [],
   "source": [
    "# Download training data from open datasets.\n",
    "training_data = datasets.MNIST(\n",
    "    root=\"data\",\n",
    "    train=True,\n",
    "    download=True,\n",
    "    transform=ToTensor()\n",
    ")\n",
    "\n",
    "# Download test data from open datasets.\n",
    "test_data = datasets.MNIST(\n",
    "    root=\"data\",\n",
    "    train=False,\n",
    "    download=True,\n",
    "    transform=ToTensor(),\n",
    ")"
   ]
  },
  {
   "cell_type": "code",
   "execution_count": 3,
   "metadata": {},
   "outputs": [
    {
     "data": {
      "image/png": "[encoded data removed]",
      "text/plain": [
       "<Figure size 800x800 with 9 Axes>"
      ]
     },
     "metadata": {},
     "output_type": "display_data"
    }
   ],
   "source": [
    "figure = plt.figure(figsize=(8, 8))\n",
    "cols, rows = 3, 3\n",
    "for i in range(1, cols * rows + 1):\n",
    "    sample_idx = torch.randint(len(training_data), size=(1,)).item()\n",
    "    img, label = training_data[sample_idx]\n",
    "    figure.add_subplot(rows, cols, i)\n",
    "    plt.title(label)\n",
    "    plt.axis(\"off\")\n",
    "    plt.imshow(img.squeeze(), cmap=\"gray\")\n",
    "plt.show()"
   ]
  },
  {
   "cell_type": "code",
   "execution_count": 4,
   "metadata": {},
   "outputs": [
    {
     "name": "stdout",
     "output_type": "stream",
     "text": [
      "Shape of X [N, C, H, W]: torch.Size([32, 1, 28, 28])\n",
      "Shape of y: torch.Size([32]) torch.int64\n"
     ]
    }
   ],
   "source": [
    "batch_size = 32\n",
    "\n",
    "# Create data loaders.\n",
    "train_dataloader = DataLoader(training_data, batch_size=batch_size)\n",
    "test_dataloader = DataLoader(test_data, batch_size=batch_size)\n",
    "\n",
    "for X, y in test_dataloader:\n",
    "    print(f\"Shape of X [N, C, H, W]: {X.shape}\")\n",
    "    print(f\"Shape of y: {y.shape} {y.dtype}\")\n",
    "    break"
   ]
  },
  {
   "cell_type": "markdown",
   "metadata": {},
   "source": [
    "# Device"
   ]
  },
  {
   "cell_type": "code",
   "execution_count": 5,
   "metadata": {},
   "outputs": [
    {
     "name": "stdout",
     "output_type": "stream",
     "text": [
      "Using cuda device\n"
     ]
    }
   ],
   "source": [
    "# Get cpu or gpu device for training.\n",
    "device = \"cuda\" if torch.cuda.is_available() else \"cpu\"\n",
    "# device = 'cpu'\n",
    "print(f\"Using {device} device\")"
   ]
  },
  {
   "cell_type": "markdown",
   "metadata": {},
   "source": [
    "# Classifier"
   ]
  },
  {
   "cell_type": "code",
   "execution_count": 6,
   "metadata": {},
   "outputs": [
    {
     "name": "stdout",
     "output_type": "stream",
     "text": [
      "Classifier(\n",
      "  (flatten): Flatten(start_dim=1, end_dim=-1)\n",
      "  (linear_relu_stack): Sequential(\n",
      "    (0): Linear(in_features=784, out_features=512, bias=True)\n",
      "    (1): ReLU()\n",
      "    (2): Linear(in_features=512, out_features=512, bias=True)\n",
      "    (3): ReLU()\n",
      "    (4): Linear(in_features=512, out_features=10, bias=True)\n",
      "  )\n",
      "  (loss_function): CrossEntropyLoss()\n",
      ")\n"
     ]
    }
   ],
   "source": [
    "# Define model\n",
    "class Classifier(nn.Module):\n",
    "    def __init__(self):\n",
    "        super().__init__()\n",
    "        self.flatten = nn.Flatten()\n",
    "        self.linear_relu_stack = nn.Sequential(\n",
    "            nn.Linear(28*28, 512),\n",
    "            nn.ReLU(),\n",
    "            nn.Linear(512, 512),\n",
    "            nn.ReLU(),\n",
    "            nn.Linear(512, 10)\n",
    "        )\n",
    "        # loss and optimizer\n",
    "        self.loss_function = nn.CrossEntropyLoss()\n",
    "        self.optimizer = torch.optim.Adam(self.parameters()) # TODO il se passe quoi si je mets cette ligne avant le sequential ?\n",
    "\n",
    "    def forward(self, x):\n",
    "        x = self.flatten(x)\n",
    "        logits = self.linear_relu_stack(x)\n",
    "        return logits\n",
    "\n",
    "classifier = Classifier().to(device)\n",
    "print(classifier)"
   ]
  },
  {
   "cell_type": "markdown",
   "metadata": {},
   "source": [
    "# Identity Transformer"
   ]
  },
  {
   "cell_type": "code",
   "execution_count": 7,
   "metadata": {},
   "outputs": [],
   "source": [
    "class IdentityTransformer(nn.Module):\n",
    "    def __init__(self) -> None:\n",
    "        super().__init__()\n",
    "        # https://stackoverflow.com/questions/60908827/why-pytorch-nn-module-cuda-not-moving-module-tensor-but-only-parameters-and-bu\n",
    "        self.positional_encoding = nn.Parameter(torch.rand((28), requires_grad=True)) # TODO see if requires_grad=True is needed here\n",
    "        self.flatten = nn.Flatten()\n",
    "        self.transformer = nn.Transformer(\n",
    "            d_model=28, \n",
    "            nhead=1, \n",
    "            num_encoder_layers=3, \n",
    "            num_decoder_layers=3, \n",
    "            batch_first=True) # https://discuss.pytorch.org/t/why-is-sequence-batch-features-the-default-instead-of-bxsxf/8244\n",
    "\n",
    "    def forward(self, input):\n",
    "        \"\"\"Takes a batch of 28*28 pictures (N,28,28) # TODO verifier que c'est pas (N,1,28,28) que donne le dataloader\n",
    "        We want to have (N,S,E)=(N,28,28), i.e. each row is a 'token' and the whole picture is a sentence.\"\"\"\n",
    "        input = torch.add(input, self.positional_encoding) # picture += positional encoding\n",
    "        # input = self.flatten(input) # (N,28,28) -> (N,784)\n",
    "        # input = torch.unsqueeze(input, 2) # (N,784) -> (N,784,1)\n",
    "        input = torch.squeeze(input) # TODO lié au TODO d'en haut (N,1,28,28)->(N,28,28)\n",
    "        output = self.transformer(input, input)\n",
    "        # output = torch.reshape(output, input.shape) # (N,1,784) -> (N,28,28)\n",
    "        return output\n",
    "\n",
    "identity_transformer = IdentityTransformer().to(device)\n",
    "\n",
    "# loss_function = nn.MSELoss()\n",
    "# optimizer = torch.optim.Adam(identity_transformer.parameters(), lr=1e-4) # TODO train learning rate during training phase r adjust it \n",
    "# https://pytorch.org/docs/stable/optim.html#how-to-adjust-learning-rate"
   ]
  },
  {
   "cell_type": "markdown",
   "metadata": {},
   "source": [
    "# Autoencoder (old)"
   ]
  },
  {
   "cell_type": "code",
   "execution_count": 8,
   "metadata": {},
   "outputs": [
    {
     "data": {
      "text/plain": [
       "'class Autoencoder(nn.Module):\\n    def __init__(self, bottleneck_dim: int = 2) -> None:\\n        super().__init__()\\n        self.encoder = IdentityTransformer()\\n        self.decoder = IdentityTransformer()\\n        self.flatten = nn.Flatten()\\n        self.bottleneck = nn.Sequential(nn.Linear(28*28, bottleneck_dim), nn.Linear(2, 28*28))\\n        \\n    def forward(self, input):\\n        x = self.encoder(input)\\n        x = torch.reshape(self.bottleneck(self.flatten(x)), x.shape)\\n        output = self.decoder(x)\\n        return output\\n        \\nautoencoder = Autoencoder().to(device)\\nprint(autoencoder)\\n\\nloss_function = nn.MSELoss()\\noptimizer = torch.optim.Adam(autoencoder.parameters(), lr=1e-4)'"
      ]
     },
     "execution_count": 8,
     "metadata": {},
     "output_type": "execute_result"
    }
   ],
   "source": [
    "\"\"\"class Autoencoder(nn.Module):\n",
    "    def __init__(self, bottleneck_dim: int = 2) -> None:\n",
    "        super().__init__()\n",
    "        self.encoder = IdentityTransformer()\n",
    "        self.decoder = IdentityTransformer()\n",
    "        self.flatten = nn.Flatten()\n",
    "        self.bottleneck = nn.Sequential(nn.Linear(28*28, bottleneck_dim), nn.Linear(2, 28*28))\n",
    "        \n",
    "    def forward(self, input):\n",
    "        x = self.encoder(input)\n",
    "        x = torch.reshape(self.bottleneck(self.flatten(x)), x.shape)\n",
    "        output = self.decoder(x)\n",
    "        return output\n",
    "        \n",
    "autoencoder = Autoencoder().to(device)\n",
    "print(autoencoder)\n",
    "\n",
    "loss_function = nn.MSELoss()\n",
    "optimizer = torch.optim.Adam(autoencoder.parameters(), lr=1e-4)\"\"\""
   ]
  },
  {
   "cell_type": "markdown",
   "metadata": {},
   "source": [
    "# Autoencoder"
   ]
  },
  {
   "cell_type": "code",
   "execution_count": 9,
   "metadata": {},
   "outputs": [],
   "source": [
    "autoencoder = Autoencoder(dim_sequence=28*28).to(device)\n",
    "loss_function = nn.MSELoss()\n",
    "optimizer = torch.optim.Adam(autoencoder.parameters(), lr=1e-4, weight_decay=0.01)\n",
    "# TODO tellement de trucs à fine-tuner ici..."
   ]
  },
  {
   "cell_type": "markdown",
   "metadata": {},
   "source": [
    "# Train"
   ]
  },
  {
   "cell_type": "code",
   "execution_count": 10,
   "metadata": {},
   "outputs": [],
   "source": [
    "def train_autoencoder(dataloader: DataLoader, model, loss_function, optimizer):\n",
    "    \"\"\"Right now, when iterated over, the dataloader returns a data point AND a label. \n",
    "    TODO faire en sorte que le dataloader soit composé que des images, sans les labels.\"\"\"\n",
    "\n",
    "    size = len(dataloader.dataset)\n",
    "    model.train()\n",
    "    for batch, (X, _) in enumerate(dataloader):\n",
    "        X = X.to(device)\n",
    "\n",
    "        # Compute prediction error\n",
    "        pred = model(X.squeeze().flatten(start_dim=-2)) # TODO remove need of squeeze cleanly in dataset\n",
    "        loss = loss_function(pred, X.squeeze().flatten(start_dim=-2))\n",
    "\n",
    "        # Backpropagation\n",
    "        optimizer.zero_grad()\n",
    "        loss.backward()\n",
    "        optimizer.step()\n",
    "\n",
    "        if batch % 100 == 0:\n",
    "            loss, current = loss.item(), batch * len(X)\n",
    "            print(f\"loss: {loss:>7f}  [{current:>5d}/{size:>5d}]\")\n",
    "\n",
    "def test_autoencoder(dataloader, model, loss_function):\n",
    "    size = len(dataloader.dataset)\n",
    "    num_batches = len(dataloader)\n",
    "    model.eval()\n",
    "    test_loss = 0\n",
    "    with torch.no_grad():\n",
    "        for X, _ in dataloader:\n",
    "            X = X.to(device)\n",
    "            pred = model(X.squeeze().flatten(start_dim=-2)) # TODO remove need of squeeze cleanly in dataloader\n",
    "            test_loss += loss_function(pred, X.squeeze().flatten(start_dim=-2)).item()\n",
    "    test_loss /= num_batches\n",
    "    print(f\"Test Error: Avg loss: {test_loss:>8f} \\n\")"
   ]
  },
  {
   "cell_type": "markdown",
   "metadata": {},
   "source": [
    "# ---"
   ]
  },
  {
   "cell_type": "code",
   "execution_count": 11,
   "metadata": {},
   "outputs": [
    {
     "name": "stdout",
     "output_type": "stream",
     "text": [
      "Epoch 1\n",
      "-------------------------------\n",
      "loss: 1.273659  [    0/60000]\n",
      "loss: 1.196158  [ 3200/60000]\n",
      "loss: 1.242908  [ 6400/60000]\n",
      "loss: 1.154753  [ 9600/60000]\n",
      "loss: 1.082604  [12800/60000]\n",
      "loss: 1.100382  [16000/60000]\n",
      "loss: 1.142686  [19200/60000]\n",
      "loss: 1.018945  [22400/60000]\n",
      "loss: 0.980950  [25600/60000]\n",
      "loss: 0.928339  [28800/60000]\n",
      "loss: 0.936048  [32000/60000]\n",
      "loss: 0.851040  [35200/60000]\n",
      "loss: 0.828678  [38400/60000]\n",
      "loss: 0.814129  [41600/60000]\n",
      "loss: 0.729797  [44800/60000]\n",
      "loss: 0.802088  [48000/60000]\n",
      "loss: 0.760910  [51200/60000]\n",
      "loss: 0.673537  [54400/60000]\n",
      "loss: 0.620830  [57600/60000]\n",
      "Test Error: Avg loss: 0.623676 \n",
      "\n",
      "Done!\n"
     ]
    }
   ],
   "source": [
    "epochs = 10\n",
    "for t in range(epochs):\n",
    "    print(f\"Epoch {t+1}\\n-------------------------------\")\n",
    "    train_autoencoder(train_dataloader, autoencoder, loss_function, optimizer)\n",
    "    test_autoencoder(test_dataloader, autoencoder, loss_function)\n",
    "print(\"Done!\")"
   ]
  },
  {
   "cell_type": "code",
   "execution_count": 12,
   "metadata": {},
   "outputs": [
    {
     "data": {
      "image/png": "[encoded data removed]",
      "text/plain": [
       "<Figure size 200x500 with 10 Axes>"
      ]
     },
     "metadata": {},
     "output_type": "display_data"
    }
   ],
   "source": [
    "n = 5\n",
    "fig, axs = plt.subplots(n, 2, figsize=(2,5))\n",
    "for i in range(n):\n",
    "    # Input\n",
    "    random_index = np.random.randint(len(test_data))\n",
    "    img, label = test_data[random_index]\n",
    "    ax = axs[i, 0]\n",
    "    ax.imshow(img.squeeze(), cmap='gray')\n",
    "    ax.axis(\"off\")\n",
    "    if i == 0: ax.set_title('Input')\n",
    "\n",
    "    # Output\n",
    "    input_image = img.to(device).squeeze().flatten(start_dim=-2)\n",
    "    output_image = autoencoder(input_image)\n",
    "    output_image = output_image.reshape(img.shape)\n",
    "\n",
    "    ax = axs[i, 1]\n",
    "    ax.imshow(output_image.cpu().detach().numpy().squeeze(), cmap=\"gray\")\n",
    "    ax.axis(\"off\")\n",
    "    if i == 0: ax.set_title('Output')\n",
    "plt.subplots_adjust(wspace=0.0)\n",
    "plt.show()"
   ]
  },
  {
   "cell_type": "markdown",
   "metadata": {},
   "source": [
    "TODO : faire un cahier de bord\n",
    "Dire que j'ai voulu faire l'autoencodeur, et je me suis dit \"et pourquoi pas faire avec des transformers ?\"\n",
    "Comme je maîtrisais pas bien nn.Transformer, j'ai voulu d'abord faire juste un réseau transformer qui en lui donnant une image ressors la même image (la fonction identité donc). Mais comme les transformers ça prend des phrases et des mots, faut réfléchir ce qui est quoi.\n",
    "On peut essayer (avec les default values pour le transformer, l'optimizer, etc):\n",
    "- 1 image = 1 phrase/sequence\n",
    "    - 1 ligne = 1 mot/token, chaque mot (ligne) est de dimension 28 et il y a 28 mots dans la phrase (image)\n",
    "    - 1 pixel = 1 mot, chaque mot (pixel) est de dimension 1 et il y a 28*28 mots dans la phrase (image)"
   ]
  }
 ],
 "metadata": {
  "kernelspec": {
   "display_name": "Python 3.10.6 ('Emergence')",
   "language": "python",
   "name": "python3"
  },
  "language_info": {
   "codemirror_mode": {
    "name": "ipython",
    "version": 3
   },
   "file_extension": ".py",
   "mimetype": "text/x-python",
   "name": "python",
   "nbconvert_exporter": "python",
   "pygments_lexer": "ipython3",
   "version": "3.10.6"
  },
  "orig_nbformat": 4,
  "vscode": {
   "interpreter": {
    "hash": "8b1d9945a33258b0ffd7aeaf6809be58234033e79986f5ef0464e80e152d3eb4"
   }
  }
 },
 "nbformat": 4,
 "nbformat_minor": 2
}
