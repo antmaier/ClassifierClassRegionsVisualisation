{
 "cells": [
  {
   "cell_type": "code",
   "execution_count": 1,
   "metadata": {},
   "outputs": [],
   "source": [
    "import torch"
   ]
  },
  {
   "cell_type": "code",
   "execution_count": 7,
   "metadata": {},
   "outputs": [],
   "source": [
    "device = 'cuda'\n",
    "transformer = torch.nn.Transformer(d_model=1, nhead=1).to(device)\n",
    "input = torch.tensor([[[0.0], [0.1]]], device=device)\n",
    "output = transformer(input, input)\n"
   ]
  }
 ],
 "metadata": {
  "kernelspec": {
   "display_name": "Python 3.10.6 ('Emergence')",
   "language": "python",
   "name": "python3"
  },
  "language_info": {
   "codemirror_mode": {
    "name": "ipython",
    "version": 3
   },
   "file_extension": ".py",
   "mimetype": "text/x-python",
   "name": "python",
   "nbconvert_exporter": "python",
   "pygments_lexer": "ipython3",
   "version": "3.10.6"
  },
  "orig_nbformat": 4,
  "vscode": {
   "interpreter": {
    "hash": "8b1d9945a33258b0ffd7aeaf6809be58234033e79986f5ef0464e80e152d3eb4"
   }
  }
 },
 "nbformat": 4,
 "nbformat_minor": 2
}
